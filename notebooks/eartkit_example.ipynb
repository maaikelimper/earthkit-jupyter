{
 "cells": [
  {
   "cell_type": "code",
   "execution_count": null,
   "id": "a5e3b6e0-4798-4f99-b99f-f86c67732940",
   "metadata": {},
   "outputs": [],
   "source": [
    "import earthkit.data\n",
    "import earthkit.maps"
   ]
  },
  {
   "cell_type": "code",
   "execution_count": null,
   "id": "913f2a3a-af4e-4f9c-a90d-ff422672f2e2",
   "metadata": {},
   "outputs": [],
   "source": [
    "data = earthkit.data.from_source(\"file\", \"wind_20x20.grib\")"
   ]
  },
  {
   "cell_type": "code",
   "execution_count": null,
   "id": "87ec9f07-49b7-4d8d-9fda-29b53df50d8b",
   "metadata": {},
   "outputs": [],
   "source": [
    "earthkit.maps.quickplot(data)"
   ]
  },
  {
   "cell_type": "code",
   "execution_count": null,
   "id": "35a2bb12-6ba9-41f4-898b-e8eea005cd68",
   "metadata": {},
   "outputs": [],
   "source": []
  }
 ],
 "metadata": {
  "kernelspec": {
   "display_name": "Python 3 (ipykernel)",
   "language": "python",
   "name": "python3"
  },
  "language_info": {
   "codemirror_mode": {
    "name": "ipython",
    "version": 3
   },
   "file_extension": ".py",
   "mimetype": "text/x-python",
   "name": "python",
   "nbconvert_exporter": "python",
   "pygments_lexer": "ipython3",
   "version": "3.10.12"
  }
 },
 "nbformat": 4,
 "nbformat_minor": 5
}
